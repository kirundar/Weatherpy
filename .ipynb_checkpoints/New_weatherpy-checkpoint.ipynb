{
 "cells": [
  {
   "cell_type": "code",
   "execution_count": 8,
   "metadata": {},
   "outputs": [],
   "source": [
    "import pandas as pd\n",
    "import requests as req\n",
    "from citipy import citipy \n",
    "import matplotlib.pyplot as plt\n",
    "import seaborn as sns\n",
    "import random\n",
    "import time as time\n",
    "pd.options.mode.chained_assignment = None\n",
    "key=\"a2f5286bf31a93bf512cd6b8f4d02166\"\n",
    "import numpy as np\n",
    "import pandas as pd\n",
    "import openweathermapy as ow\n",
    "from selenium.webdriver.common.keys import Keys\n",
    "from selenium import webdriver\n",
    "%matplotlib inline"
   ]
  },
  {
   "cell_type": "code",
   "execution_count": 9,
   "metadata": {},
   "outputs": [
    {
     "data": {
      "text/html": [
       "<div>\n",
       "<style>\n",
       "    .dataframe thead tr:only-child th {\n",
       "        text-align: right;\n",
       "    }\n",
       "\n",
       "    .dataframe thead th {\n",
       "        text-align: left;\n",
       "    }\n",
       "\n",
       "    .dataframe tbody tr th {\n",
       "        vertical-align: top;\n",
       "    }\n",
       "</style>\n",
       "<table border=\"1\" class=\"dataframe\">\n",
       "  <thead>\n",
       "    <tr style=\"text-align: right;\">\n",
       "      <th></th>\n",
       "      <th>Lat</th>\n",
       "      <th>Lng</th>\n",
       "      <th>City</th>\n",
       "      <th>Temperature</th>\n",
       "      <th>Humidity</th>\n",
       "      <th>Clouds</th>\n",
       "      <th>Wind Speed</th>\n",
       "    </tr>\n",
       "  </thead>\n",
       "  <tbody>\n",
       "    <tr>\n",
       "      <th>0</th>\n",
       "      <td>-73.731908</td>\n",
       "      <td>-0.695316</td>\n",
       "      <td>NaN</td>\n",
       "      <td>NaN</td>\n",
       "      <td>NaN</td>\n",
       "      <td>NaN</td>\n",
       "      <td>NaN</td>\n",
       "    </tr>\n",
       "    <tr>\n",
       "      <th>1</th>\n",
       "      <td>76.984681</td>\n",
       "      <td>-41.303559</td>\n",
       "      <td>NaN</td>\n",
       "      <td>NaN</td>\n",
       "      <td>NaN</td>\n",
       "      <td>NaN</td>\n",
       "      <td>NaN</td>\n",
       "    </tr>\n",
       "    <tr>\n",
       "      <th>2</th>\n",
       "      <td>0.851606</td>\n",
       "      <td>-151.226527</td>\n",
       "      <td>NaN</td>\n",
       "      <td>NaN</td>\n",
       "      <td>NaN</td>\n",
       "      <td>NaN</td>\n",
       "      <td>NaN</td>\n",
       "    </tr>\n",
       "    <tr>\n",
       "      <th>3</th>\n",
       "      <td>24.584948</td>\n",
       "      <td>2.143171</td>\n",
       "      <td>NaN</td>\n",
       "      <td>NaN</td>\n",
       "      <td>NaN</td>\n",
       "      <td>NaN</td>\n",
       "      <td>NaN</td>\n",
       "    </tr>\n",
       "    <tr>\n",
       "      <th>4</th>\n",
       "      <td>-5.564230</td>\n",
       "      <td>113.527948</td>\n",
       "      <td>NaN</td>\n",
       "      <td>NaN</td>\n",
       "      <td>NaN</td>\n",
       "      <td>NaN</td>\n",
       "      <td>NaN</td>\n",
       "    </tr>\n",
       "  </tbody>\n",
       "</table>\n",
       "</div>"
      ],
      "text/plain": [
       "         Lat         Lng City Temperature Humidity Clouds Wind Speed\n",
       "0 -73.731908   -0.695316  NaN         NaN      NaN    NaN        NaN\n",
       "1  76.984681  -41.303559  NaN         NaN      NaN    NaN        NaN\n",
       "2   0.851606 -151.226527  NaN         NaN      NaN    NaN        NaN\n",
       "3  24.584948    2.143171  NaN         NaN      NaN    NaN        NaN\n",
       "4  -5.564230  113.527948  NaN         NaN      NaN    NaN        NaN"
      ]
     },
     "execution_count": 9,
     "metadata": {},
     "output_type": "execute_result"
    }
   ],
   "source": [
    "#create list of random latitudes and longitudes\n",
    "data= pd.DataFrame(columns =['Lat',\"Lng\",\"City\",\"Temperature\",\"Humidity\",\"Clouds\",\"Wind Speed\"])\n",
    "lat = []\n",
    "lng = []\n",
    "for x in range(0,1200):\n",
    "    lat.append(random.uniform(-90,91))\n",
    "    lng.append(random.uniform(-181,181))\n",
    "data['Lat']=lat\n",
    "data['Lng']=lng\n",
    "data.head()"
   ]
  },
  {
   "cell_type": "code",
   "execution_count": 10,
   "metadata": {},
   "outputs": [
    {
     "data": {
      "text/html": [
       "<div>\n",
       "<style>\n",
       "    .dataframe thead tr:only-child th {\n",
       "        text-align: right;\n",
       "    }\n",
       "\n",
       "    .dataframe thead th {\n",
       "        text-align: left;\n",
       "    }\n",
       "\n",
       "    .dataframe tbody tr th {\n",
       "        vertical-align: top;\n",
       "    }\n",
       "</style>\n",
       "<table border=\"1\" class=\"dataframe\">\n",
       "  <thead>\n",
       "    <tr style=\"text-align: right;\">\n",
       "      <th></th>\n",
       "      <th>Lat</th>\n",
       "      <th>Lng</th>\n",
       "      <th>City</th>\n",
       "      <th>Temperature</th>\n",
       "      <th>Humidity</th>\n",
       "      <th>Clouds</th>\n",
       "      <th>Wind Speed</th>\n",
       "    </tr>\n",
       "  </thead>\n",
       "  <tbody>\n",
       "    <tr>\n",
       "      <th>0</th>\n",
       "      <td>-73.731908</td>\n",
       "      <td>-0.695316</td>\n",
       "      <td>hermanus</td>\n",
       "      <td>NaN</td>\n",
       "      <td>NaN</td>\n",
       "      <td>NaN</td>\n",
       "      <td>NaN</td>\n",
       "    </tr>\n",
       "    <tr>\n",
       "      <th>1</th>\n",
       "      <td>76.984681</td>\n",
       "      <td>-41.303559</td>\n",
       "      <td>tasiilaq</td>\n",
       "      <td>NaN</td>\n",
       "      <td>NaN</td>\n",
       "      <td>NaN</td>\n",
       "      <td>NaN</td>\n",
       "    </tr>\n",
       "    <tr>\n",
       "      <th>2</th>\n",
       "      <td>0.851606</td>\n",
       "      <td>-151.226527</td>\n",
       "      <td>atuona</td>\n",
       "      <td>NaN</td>\n",
       "      <td>NaN</td>\n",
       "      <td>NaN</td>\n",
       "      <td>NaN</td>\n",
       "    </tr>\n",
       "    <tr>\n",
       "      <th>3</th>\n",
       "      <td>24.584948</td>\n",
       "      <td>2.143171</td>\n",
       "      <td>adrar</td>\n",
       "      <td>NaN</td>\n",
       "      <td>NaN</td>\n",
       "      <td>NaN</td>\n",
       "      <td>NaN</td>\n",
       "    </tr>\n",
       "    <tr>\n",
       "      <th>4</th>\n",
       "      <td>-5.564230</td>\n",
       "      <td>113.527948</td>\n",
       "      <td>sumenep</td>\n",
       "      <td>NaN</td>\n",
       "      <td>NaN</td>\n",
       "      <td>NaN</td>\n",
       "      <td>NaN</td>\n",
       "    </tr>\n",
       "  </tbody>\n",
       "</table>\n",
       "</div>"
      ],
      "text/plain": [
       "         Lat         Lng      City Temperature Humidity Clouds Wind Speed\n",
       "0 -73.731908   -0.695316  hermanus         NaN      NaN    NaN        NaN\n",
       "1  76.984681  -41.303559  tasiilaq         NaN      NaN    NaN        NaN\n",
       "2   0.851606 -151.226527    atuona         NaN      NaN    NaN        NaN\n",
       "3  24.584948    2.143171     adrar         NaN      NaN    NaN        NaN\n",
       "4  -5.564230  113.527948   sumenep         NaN      NaN    NaN        NaN"
      ]
     },
     "execution_count": 10,
     "metadata": {},
     "output_type": "execute_result"
    }
   ],
   "source": [
    "#find the cities related to the coordinates\n",
    "cities =[]\n",
    "for index, row in data.iterrows():\n",
    "    city=citipy.nearest_city(row[\"Lat\"],row[\"Lng\"])\n",
    "    cities.append(city.city_name)\n",
    "data['City']=cities\n",
    "data.head()"
   ]
  },
  {
   "cell_type": "code",
   "execution_count": 11,
   "metadata": {},
   "outputs": [
    {
     "data": {
      "text/plain": [
       "515"
      ]
     },
     "execution_count": 11,
     "metadata": {},
     "output_type": "execute_result"
    }
   ],
   "source": [
    "\n",
    "#check for and remove duplicates and make sure there are atleast 500 unique cities to test\n",
    "new_data = data.drop_duplicates(\"City\",keep=\"first\")\n",
    "len(new_data)"
   ]
  },
  {
   "cell_type": "code",
   "execution_count": null,
   "metadata": {},
   "outputs": [],
   "source": [
    "#create empty arrays to store the data for temperature, humidity, clouds, and wind speed \n",
    "temp = []\n",
    "humidity =[]\n",
    "clouds = []\n",
    "wind = []\n",
    "\n",
    "counter = 0\n",
    "url = \"https://api.openweathermap.org/data/2.5/weather?q=\"\n",
    "units = \"imperial\"\n",
    "\n",
    "#iterate through the rows to pull data from the api \n",
    "for index, row in new_data.iterrows():\n",
    "    counter +=1\n",
    "    city = row[\"City\"]\n",
    "    target_url = url+city+\"&appid=\"+key+\"&units=\"+units\n",
    "    print(\"we are now on city number \"+str(counter))\n",
    "    print(\"The name of the city is \"+row[\"City\"])\n",
    "    print(target_url)\n",
    "    print(\"__________________________________________________________________________________________\")\n",
    "    info = req.get(target_url).json()\n",
    "    temp.append(info['main']['temp'])\n",
    "    humidity.append(info['main']['humidity'])\n",
    "    clouds.append(info['clouds']['all'])\n",
    "    wind.append(info['wind']['speed'])\n",
    "    time.sleep(1)\n",
    "#assign the values from the arrays to the data frame\n",
    "new_data[\"Temperature\"]=temp\n",
    "new_data[\"Humidity\"]=humidity\n",
    "new_data[\"Clouds\"]=clouds\n",
    "new_data[\"Wind Speed\"]=wind"
   ]
  },
  {
   "cell_type": "code",
   "execution_count": 7,
   "metadata": {},
   "outputs": [
    {
     "data": {
      "text/html": [
       "<div>\n",
       "<style>\n",
       "    .dataframe thead tr:only-child th {\n",
       "        text-align: right;\n",
       "    }\n",
       "\n",
       "    .dataframe thead th {\n",
       "        text-align: left;\n",
       "    }\n",
       "\n",
       "    .dataframe tbody tr th {\n",
       "        vertical-align: top;\n",
       "    }\n",
       "</style>\n",
       "<table border=\"1\" class=\"dataframe\">\n",
       "  <thead>\n",
       "    <tr style=\"text-align: right;\">\n",
       "      <th></th>\n",
       "      <th>Lat</th>\n",
       "      <th>Lng</th>\n",
       "      <th>City</th>\n",
       "      <th>Temperature</th>\n",
       "      <th>Humidity</th>\n",
       "      <th>Clouds</th>\n",
       "      <th>Wind Speed</th>\n",
       "    </tr>\n",
       "  </thead>\n",
       "  <tbody>\n",
       "    <tr>\n",
       "      <th>0</th>\n",
       "      <td>4.044010</td>\n",
       "      <td>99.756043</td>\n",
       "      <td>lumut</td>\n",
       "      <td>NaN</td>\n",
       "      <td>NaN</td>\n",
       "      <td>NaN</td>\n",
       "      <td>NaN</td>\n",
       "    </tr>\n",
       "    <tr>\n",
       "      <th>1</th>\n",
       "      <td>47.624700</td>\n",
       "      <td>-137.309649</td>\n",
       "      <td>ketchikan</td>\n",
       "      <td>NaN</td>\n",
       "      <td>NaN</td>\n",
       "      <td>NaN</td>\n",
       "      <td>NaN</td>\n",
       "    </tr>\n",
       "    <tr>\n",
       "      <th>2</th>\n",
       "      <td>-55.380100</td>\n",
       "      <td>-74.292383</td>\n",
       "      <td>punta arenas</td>\n",
       "      <td>NaN</td>\n",
       "      <td>NaN</td>\n",
       "      <td>NaN</td>\n",
       "      <td>NaN</td>\n",
       "    </tr>\n",
       "    <tr>\n",
       "      <th>3</th>\n",
       "      <td>65.314553</td>\n",
       "      <td>154.442397</td>\n",
       "      <td>srednekolymsk</td>\n",
       "      <td>NaN</td>\n",
       "      <td>NaN</td>\n",
       "      <td>NaN</td>\n",
       "      <td>NaN</td>\n",
       "    </tr>\n",
       "    <tr>\n",
       "      <th>4</th>\n",
       "      <td>10.335750</td>\n",
       "      <td>27.268200</td>\n",
       "      <td>babanusah</td>\n",
       "      <td>NaN</td>\n",
       "      <td>NaN</td>\n",
       "      <td>NaN</td>\n",
       "      <td>NaN</td>\n",
       "    </tr>\n",
       "  </tbody>\n",
       "</table>\n",
       "</div>"
      ],
      "text/plain": [
       "         Lat         Lng           City Temperature Humidity Clouds Wind Speed\n",
       "0   4.044010   99.756043          lumut         NaN      NaN    NaN        NaN\n",
       "1  47.624700 -137.309649      ketchikan         NaN      NaN    NaN        NaN\n",
       "2 -55.380100  -74.292383   punta arenas         NaN      NaN    NaN        NaN\n",
       "3  65.314553  154.442397  srednekolymsk         NaN      NaN    NaN        NaN\n",
       "4  10.335750   27.268200      babanusah         NaN      NaN    NaN        NaN"
      ]
     },
     "execution_count": 7,
     "metadata": {},
     "output_type": "execute_result"
    }
   ],
   "source": [
    "new_data.head()"
   ]
  },
  {
   "cell_type": "code",
   "execution_count": 12,
   "metadata": {},
   "outputs": [
    {
     "data": {
      "image/png": "[encoded data removed]",
      "text/plain": [
       "<matplotlib.figure.Figure at 0x1765262a7f0>"
      ]
     },
     "metadata": {},
     "output_type": "display_data"
    }
   ],
   "source": [
    "#Latitude Vs Temperature Scatter Plot\n",
    "plt.scatter(new_data[\"Lat\"],new_data[\"Temperature\"],marker =\"o\")\n",
    "plt.title(\"Latitude Vs. Temperature\")\n",
    "plt.xlabel(\"Latitude\")\n",
    "plt.ylabel(\"Temperature (F)\")\n",
    "sns.set()\n",
    "plt.show()"
   ]
  },
  {
   "cell_type": "code",
   "execution_count": 13,
   "metadata": {},
   "outputs": [
    {
     "data": {
      "image/png": "[encoded data removed]",
      "text/plain": [
       "<matplotlib.figure.Figure at 0x17652af9588>"
      ]
     },
     "metadata": {},
     "output_type": "display_data"
    }
   ],
   "source": [
    "#Humidity Vs. Latitude Scatter Plot\n",
    "plt.scatter(new_data[\"Lat\"],new_data[\"Humidity\"],marker =\"o\")\n",
    "plt.title(\"Latitude Vs. Humidity\")\n",
    "plt.xlabel(\"Latitude\")\n",
    "plt.ylabel(\"Humidity (%)\")\n",
    "sns.set()\n",
    "plt.show()"
   ]
  },
  {
   "cell_type": "code",
   "execution_count": 14,
   "metadata": {},
   "outputs": [
    {
     "data": {
      "image/png": "[encoded data removed]",
      "text/plain": [
       "<matplotlib.figure.Figure at 0x17652e2e9b0>"
      ]
     },
     "metadata": {},
     "output_type": "display_data"
    }
   ],
   "source": [
    "#Cloudiness Vs. Latitude Scatter Plot\n",
    "plt.scatter(new_data[\"Lat\"],new_data[\"Clouds\"],marker =\"o\")\n",
    "plt.title(\"Latitude Vs. Cloudiness\")\n",
    "plt.xlabel(\"Latitude\")\n",
    "plt.ylabel(\"Cloudiness (%)\")\n",
    "sns.set()\n",
    "plt.show()"
   ]
  },
  {
   "cell_type": "code",
   "execution_count": 15,
   "metadata": {},
   "outputs": [
    {
     "data": {
      "image/png": "[encoded data removed]",
      "text/plain": [
       "<matplotlib.figure.Figure at 0x1765262aa58>"
      ]
     },
     "metadata": {},
     "output_type": "display_data"
    }
   ],
   "source": [
    "#Wind Speed Vs. Latitude Scatter Plot\n",
    "plt.scatter(new_data[\"Lat\"],new_data[\"Wind Speed\"],marker =\"o\")\n",
    "plt.title(\"Latitude Vs. Wind Speed\")\n",
    "plt.xlabel(\"Latitude\")\n",
    "plt.ylabel(\"Wind Speed (mph)\")\n",
    "sns.set()\n",
    "plt.show()"
   ]
  },
  {
   "cell_type": "code",
   "execution_count": null,
   "metadata": {
    "collapsed": true
   },
   "outputs": [],
   "source": []
  },
  {
   "cell_type": "code",
   "execution_count": null,
   "metadata": {
    "collapsed": true
   },
   "outputs": [],
   "source": []
  },
  {
   "cell_type": "code",
   "execution_count": null,
   "metadata": {
    "collapsed": true
   },
   "outputs": [],
   "source": []
  }
 ],
 "metadata": {
  "kernelspec": {
   "display_name": "Python 3",
   "language": "python",
   "name": "python3"
  },
  "language_info": {
   "codemirror_mode": {
    "name": "ipython",
    "version": 3
   },
   "file_extension": ".py",
   "mimetype": "text/x-python",
   "name": "python",
   "nbconvert_exporter": "python",
   "pygments_lexer": "ipython3",
   "version": "3.6.2"
  }
 },
 "nbformat": 4,
 "nbformat_minor": 2
}
